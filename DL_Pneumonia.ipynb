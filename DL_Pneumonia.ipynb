{
 "cells": [
  {
   "cell_type": "code",
   "execution_count": 16,
   "metadata": {
    "collapsed": true
   },
   "outputs": [
    {
     "name": "stdout",
     "output_type": "stream",
     "text": [
      "Wall time: 0 ns\n"
     ]
    }
   ],
   "source": [
    "%%time\n",
    "\n",
    "import numpy as np\n",
    "import pandas as pd\n",
    "import matplotlib\n",
    "import matplotlib.pyplot as plt\n",
    "import cv2, os, random\n",
    "import plotly\n",
    "import plotly.graph_objs as go\n",
    "\n",
    "\n",
    "\n",
    "import glob\n",
    "import tensorflow\n",
    "from tensorflow.keras.preprocessing.image import array_to_img, img_to_array, load_img\n",
    "from tensorflow.keras.layers import Conv2D, Flatten, MaxPooling2D, Dense, Dropout, BatchNormalization\n",
    "\n",
    "from tensorflow.keras.models import Sequential\n",
    "from tensorflow.keras.preprocessing import image\n",
    "from tensorflow.keras.preprocessing.image import ImageDataGenerator\n",
    "from sklearn.metrics import classification_report, confusion_matrix, accuracy_score\n",
    "\n",
    "from tensorflow.keras.callbacks import ReduceLROnPlateau\n",
    "from tensorflow.keras.applications.vgg16 import VGG16\n",
    "from sklearn.model_selection import train_test_split\n",
    "\n",
    "#utility\n",
    "from tqdm.notebook import tqdm\n",
    "directory = 'data/chest_xray/chest_xray'"
   ]
  },
  {
   "cell_type": "code",
   "execution_count": 10,
   "outputs": [
    {
     "name": "stdout",
     "output_type": "stream",
     "text": [
      "[PhysicalDevice(name='/physical_device:GPU:0', device_type='GPU')]\n"
     ]
    }
   ],
   "source": [
    "## Check GPU\n",
    "\n",
    "print(tensorflow.config.list_physical_devices('GPU'))"
   ],
   "metadata": {
    "collapsed": false,
    "pycharm": {
     "name": "#%%\n"
    }
   }
  },
  {
   "cell_type": "markdown",
   "source": [
    "# Loading Dataset"
   ],
   "metadata": {
    "collapsed": false
   }
  },
  {
   "cell_type": "code",
   "execution_count": 24,
   "outputs": [
    {
     "data": {
      "text/plain": "['data/chest_xray/train\\\\NORMAL\\\\IM-0115-0001.jpeg',\n 'data/chest_xray/train\\\\NORMAL\\\\IM-0117-0001.jpeg',\n 'data/chest_xray/train\\\\NORMAL\\\\IM-0119-0001.jpeg',\n 'data/chest_xray/train\\\\NORMAL\\\\IM-0122-0001.jpeg',\n 'data/chest_xray/train\\\\NORMAL\\\\IM-0125-0001.jpeg']"
     },
     "execution_count": 24,
     "metadata": {},
     "output_type": "execute_result"
    }
   ],
   "source": [
    "train_df = glob.glob('data/chest_xray/train/**/*.jpeg')\n",
    "train_df[:5]"
   ],
   "metadata": {
    "collapsed": false,
    "pycharm": {
     "name": "#%%\n"
    }
   }
  },
  {
   "cell_type": "code",
   "execution_count": 25,
   "outputs": [
    {
     "data": {
      "text/plain": "['data/chest_xray/test\\\\NORMAL\\\\IM-0001-0001.jpeg',\n 'data/chest_xray/test\\\\NORMAL\\\\IM-0003-0001.jpeg',\n 'data/chest_xray/test\\\\NORMAL\\\\IM-0005-0001.jpeg',\n 'data/chest_xray/test\\\\NORMAL\\\\IM-0006-0001.jpeg',\n 'data/chest_xray/test\\\\NORMAL\\\\IM-0007-0001.jpeg']"
     },
     "execution_count": 25,
     "metadata": {},
     "output_type": "execute_result"
    }
   ],
   "source": [
    "test_df = glob.glob('data/chest_xray/test/**/*.jpeg')\n",
    "test_df[:5]"
   ],
   "metadata": {
    "collapsed": false,
    "pycharm": {
     "name": "#%%\n"
    }
   }
  },
  {
   "cell_type": "code",
   "execution_count": 26,
   "outputs": [
    {
     "data": {
      "text/plain": "['data/chest_xray/val\\\\NORMAL\\\\NORMAL2-IM-1427-0001.jpeg',\n 'data/chest_xray/val\\\\NORMAL\\\\NORMAL2-IM-1430-0001.jpeg',\n 'data/chest_xray/val\\\\NORMAL\\\\NORMAL2-IM-1431-0001.jpeg',\n 'data/chest_xray/val\\\\NORMAL\\\\NORMAL2-IM-1436-0001.jpeg',\n 'data/chest_xray/val\\\\NORMAL\\\\NORMAL2-IM-1437-0001.jpeg']"
     },
     "execution_count": 26,
     "metadata": {},
     "output_type": "execute_result"
    }
   ],
   "source": [
    "validation_df = glob.glob('data/chest_xray/val/**/*.jpeg')\n",
    "validation_df[:5]"
   ],
   "metadata": {
    "collapsed": false,
    "pycharm": {
     "name": "#%%\n"
    }
   }
  },
  {
   "cell_type": "markdown",
   "source": [
    "## Data Exploration"
   ],
   "metadata": {
    "collapsed": false
   }
  },
  {
   "cell_type": "code",
   "execution_count": 30,
   "outputs": [
    {
     "name": "stdout",
     "output_type": "stream",
     "text": [
      "Training dataset contains 5216 images.\n",
      "Testing dataset contains 624 images.\n",
      "Validation dataset contains 16 images.\n"
     ]
    }
   ],
   "source": [
    "print(\"Training dataset contains {} images.\".format(len(train_df)))\n",
    "print(\"Testing dataset contains {} images.\".format(len(test_df)))\n",
    "print(\"Validation dataset contains {} images.\".format(len(validation_df)))"
   ],
   "metadata": {
    "collapsed": false,
    "pycharm": {
     "name": "#%%\n"
    }
   }
  },
  {
   "cell_type": "markdown",
   "source": [
    "## Data Visualization"
   ],
   "metadata": {
    "collapsed": false
   }
  },
  {
   "cell_type": "code",
   "execution_count": null,
   "outputs": [],
   "source": [],
   "metadata": {
    "collapsed": false,
    "pycharm": {
     "name": "#%%\n"
    }
   }
  }
 ],
 "metadata": {
  "kernelspec": {
   "display_name": "Python 3",
   "language": "python",
   "name": "python3"
  },
  "language_info": {
   "codemirror_mode": {
    "name": "ipython",
    "version": 2
   },
   "file_extension": ".py",
   "mimetype": "text/x-python",
   "name": "python",
   "nbconvert_exporter": "python",
   "pygments_lexer": "ipython2",
   "version": "2.7.6"
  }
 },
 "nbformat": 4,
 "nbformat_minor": 0
}